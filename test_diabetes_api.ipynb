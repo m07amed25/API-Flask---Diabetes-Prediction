{
 "cells": [
  {
   "cell_type": "code",
   "execution_count": 5,
   "id": "2f223894-1e95-4256-ab6b-e9313425d357",
   "metadata": {},
   "outputs": [
    {
     "name": "stdout",
     "output_type": "stream",
     "text": [
      "Requirement already satisfied: requests==2.32.3 in c:\\users\\crizma mega store\\appdata\\roaming\\python\\python312\\site-packages (2.32.3)\n",
      "Requirement already satisfied: charset-normalizer<4,>=2 in c:\\users\\crizma mega store\\appdata\\roaming\\python\\python312\\site-packages (from requests==2.32.3) (3.4.0)\n",
      "Requirement already satisfied: idna<4,>=2.5 in c:\\users\\crizma mega store\\appdata\\roaming\\python\\python312\\site-packages (from requests==2.32.3) (3.10)\n",
      "Requirement already satisfied: urllib3<3,>=1.21.1 in c:\\users\\crizma mega store\\appdata\\roaming\\python\\python312\\site-packages (from requests==2.32.3) (2.2.3)\n",
      "Requirement already satisfied: certifi>=2017.4.17 in c:\\users\\crizma mega store\\appdata\\roaming\\python\\python312\\site-packages (from requests==2.32.3) (2024.8.30)\n"
     ]
    },
    {
     "name": "stderr",
     "output_type": "stream",
     "text": [
      "Error processing line 1 of C:\\Users\\CRIZMA MEGA STORE\\anaconda3\\Lib\\site-packages\\protobuf-3.20.3-py3.12-nspkg.pth:\n",
      "\n",
      "  Traceback (most recent call last):\n",
      "    File \"<frozen site>\", line 206, in addpackage\n",
      "    File \"<string>\", line 1, in <module>\n",
      "    File \"<frozen importlib._bootstrap>\", line 810, in module_from_spec\n",
      "  AttributeError: 'NoneType' object has no attribute 'loader'\n",
      "\n",
      "Remainder of file ignored\n",
      "Error processing line 1 of C:\\Users\\CRIZMA MEGA STORE\\anaconda3\\Lib\\site-packages\\zope.interface-5.4.0-py3.12-nspkg.pth:\n",
      "\n",
      "  Traceback (most recent call last):\n",
      "    File \"<frozen site>\", line 206, in addpackage\n",
      "    File \"<string>\", line 1, in <module>\n",
      "    File \"<frozen importlib._bootstrap>\", line 810, in module_from_spec\n",
      "  AttributeError: 'NoneType' object has no attribute 'loader'\n",
      "\n",
      "Remainder of file ignored\n"
     ]
    }
   ],
   "source": [
    "!pip install requests==2.32.3"
   ]
  },
  {
   "cell_type": "code",
   "execution_count": 7,
   "id": "ca2b64f9-ba68-4792-85e5-ce12b18d8e18",
   "metadata": {},
   "outputs": [],
   "source": [
    "import requests"
   ]
  },
  {
   "cell_type": "code",
   "execution_count": 11,
   "id": "8e247c45-3623-4eae-ab4a-c92cfd912d32",
   "metadata": {},
   "outputs": [],
   "source": [
    "url = \"http://127.0.0.1:5000/predict\""
   ]
  },
  {
   "cell_type": "code",
   "execution_count": 31,
   "id": "dbfb6115-2cf9-49ef-abd1-b92cb72a2223",
   "metadata": {},
   "outputs": [],
   "source": [
    "data = {\n",
    "    \"Pregnancies\": 2,\n",
    "    \"Glucose\": 197,\n",
    "    \"BloodPressure\": 70,\n",
    "    \"SkinThickness\": 45,\n",
    "    \"Insulin\": 543,\n",
    "    \"BMI\": 30.5,\n",
    "    \"DiabetesPedigreeFunction\": 0.158,\n",
    "    \"Age\": 53\n",
    "}"
   ]
  },
  {
   "cell_type": "code",
   "execution_count": 33,
   "id": "103b5d86-488b-4806-bf85-25923fa6f99d",
   "metadata": {},
   "outputs": [
    {
     "name": "stdout",
     "output_type": "stream",
     "text": [
      "{'prediction': 'Diabetes'}\n"
     ]
    }
   ],
   "source": [
    "response = requests.post(url, json=data)\n",
    "print(response.json())"
   ]
  },
  {
   "cell_type": "code",
   "execution_count": null,
   "id": "4edd952c-c99f-48ce-b68b-f7ff09db7e0d",
   "metadata": {},
   "outputs": [],
   "source": []
  }
 ],
 "metadata": {
  "kernelspec": {
   "display_name": "Python 3 (ipykernel)",
   "language": "python",
   "name": "python3"
  },
  "language_info": {
   "codemirror_mode": {
    "name": "ipython",
    "version": 3
   },
   "file_extension": ".py",
   "mimetype": "text/x-python",
   "name": "python",
   "nbconvert_exporter": "python",
   "pygments_lexer": "ipython3",
   "version": "3.12.4"
  }
 },
 "nbformat": 4,
 "nbformat_minor": 5
}
